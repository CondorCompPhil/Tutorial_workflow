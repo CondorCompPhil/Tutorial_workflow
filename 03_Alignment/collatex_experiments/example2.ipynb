{
 "cells": [
  {
   "cell_type": "markdown",
   "metadata": {
    "collapsed": true
   },
   "source": [
    "# Collating lemmatised texts in XML with Collatex\n",
    "\n",
    "Let's start by defining an import function, XML to json"
   ]
  },
  {
   "cell_type": "code",
   "execution_count": null,
   "metadata": {},
   "outputs": [],
   "source": [
    "from lxml import etree\n",
    "import json\n",
    "\n",
    "def XMLtoJson(id,xmlInput):\n",
    "    # converts an XML tokenised and annotated input to JSON for collation\n",
    "    witness = {}\n",
    "    witness['id'] = id\n",
    "    monXSL = etree.XML('''\n",
    "<xsl:stylesheet xmlns:xsl=\"http://www.w3.org/1999/XSL/Transform\"\n",
    "    xmlns:xs=\"http://www.w3.org/2001/XMLSchema\"\n",
    "    xmlns:tei=\"http://www.tei-c.org/ns/1.0\"\n",
    "    exclude-result-prefixes=\"xs\"\n",
    "    version=\"1.0\">\n",
    "\n",
    "    <xsl:output method=\"text\"/>\n",
    "\n",
    "    <xsl:template match=\"/\">\n",
    "        <xsl:apply-templates\n",
    "            select=\"descendant::tei:w\"/>\n",
    "    </xsl:template>\n",
    "\n",
    "    <xsl:template match=\"tei:w\">\n",
    "        <xsl:text>{\"t\": \"</xsl:text>\n",
    "        <xsl:apply-templates/>\n",
    "        <xsl:text>\", \"xml:id\": \"</xsl:text>\n",
    "        <xsl:value-of select=\"@xml:id\"/>\n",
    "        <xsl:text>\", \"lemma\": \"</xsl:text>\n",
    "        <xsl:value-of select=\"@lemma\"/>\n",
    "        <xsl:text>\", \"POS\": \"</xsl:text>\n",
    "        <xsl:value-of select=\"substring-before(@type, '|')\"/>\n",
    "        <xsl:text>\", \"morph\": \"</xsl:text>\n",
    "        <xsl:value-of select=\"substring-after(@type, '|')\"/>\n",
    "        <xsl:text>\"}</xsl:text>\n",
    "        <xsl:if test=\"following::tei:w\">\n",
    "            <xsl:text>, </xsl:text>\n",
    "        </xsl:if>\n",
    "    </xsl:template>\n",
    "</xsl:stylesheet>\n",
    "    ''')\n",
    "    monXSL = etree.XSLT(monXSL)\n",
    "    witness['tokens'] = json.loads( '[' +str(monXSL(xmlInput)) +']')\n",
    "    return witness"
   ]
  },
  {
   "cell_type": "markdown",
   "metadata": {},
   "source": [
    "And now "
   ]
  },
  {
   "cell_type": "code",
   "execution_count": null,
   "metadata": {},
   "outputs": [],
   "source": [
    "import collatex\n",
    "from lxml import etree\n",
    "\n",
    "#Création des témoins\n",
    "#import A F G H M P R S V\n",
    "A = open('data/xml/A.xml').read()\n",
    "A = etree.XML(A)\n",
    "F = open('data/xml/F.xml').read()\n",
    "F = etree.XML(F)\n",
    "G = open('data/xml/G.xml').read()\n",
    "G = etree.XML(G)\n",
    "H = open('data/xml/H.xml').read()\n",
    "H = etree.XML(H)\n",
    "M = open('data/xml/M.xml').read()\n",
    "M = etree.XML(M)\n",
    "P = open('data/xml/P.xml').read()\n",
    "P = etree.XML(P)\n",
    "R = open('data/xml/R.xml').read()\n",
    "R = etree.XML(R)\n",
    "S = open('data/xml/S.xml').read()\n",
    "S = etree.XML(S)\n",
    "V = open('data/xml/V.xml').read()\n",
    "V = etree.XML(V)\n",
    "\n",
    "#Add A F G H M P R S V to input\n",
    "json_input = {}\n",
    "json_input['witnesses'] = []\n",
    "json_input['witnesses'].append(XMLtoJson('A',A))\n",
    "json_input['witnesses'].append(XMLtoJson('F',F))\n",
    "json_input['witnesses'].append(XMLtoJson('G',G))\n",
    "json_input['witnesses'].append(XMLtoJson('H',H))\n",
    "json_input['witnesses'].append(XMLtoJson('M',M))\n",
    "json_input['witnesses'].append(XMLtoJson('P',P))\n",
    "json_input['witnesses'].append(XMLtoJson('R',R))\n",
    "json_input['witnesses'].append(XMLtoJson('S',S))\n",
    "json_input['witnesses'].append(XMLtoJson('V',V))\n",
    "\n",
    "#collate(json_input, output=\"table\", layout=\"horizontal\", segmentation=True, near_match=False, astar=False,\n",
    "#            detect_transpositions=False, debug_scores=False, properties_filter=None, svg_output=True, indent=False)\n",
    "\n",
    "result = collatex.collate(json_input, output=\"table\", layout=\"vertical\", segmentation=False,near_match=True)#,svg_output=True)\n",
    "\n",
    "print(result)"
   ]
  },
  {
   "cell_type": "markdown",
   "metadata": {},
   "source": [
    "Or, as "
   ]
  },
  {
   "cell_type": "code",
   "execution_count": null,
   "metadata": {},
   "outputs": [],
   "source": [
    "result = collatex.collate(json_input, output=\"tei\", segmentation=False,near_match=True)\n",
    "print(result)\n",
    "# f = open('results2_tei.xml', 'w')\n",
    "#print(result, file=f)\n",
    "#f.close()"
   ]
  },
  {
   "cell_type": "markdown",
   "metadata": {},
   "source": [
    ""
   ]
  },
  {
   "cell_type": "code",
   "execution_count": null,
   "metadata": {},
   "outputs": [],
   "source": [
    "result = collatex.collate(json_input, output=\"xml\", segmentation=False,near_match=True)\n",
    "print(result)\n",
    "#f = open('results2.xml', 'w')\n",
    "#print(result, file=f)\n",
    "#f.close()\n"
   ]
  },
  {
   "cell_type": "markdown",
   "metadata": {},
   "source": [
    "or as JSON,"
   ]
  },
  {
   "cell_type": "code",
   "execution_count": null,
   "metadata": {},
   "outputs": [],
   "source": [
    "result = collatex.collate(json_input, output=\"json\", segmentation=False,near_match=True)\n",
    "print(result)\n",
    "#f = open('results2.json', 'w')\n",
    "#print(result, file=f)\n",
    "#f.close()"
   ]
  },
  {
   "cell_type": "markdown",
   "metadata": {},
   "source": [
    "## Going further\n",
    "\n",
    "This is all well and good, but, preferably, we would want to:\n",
    "\n",
    "- collate using lemmata instead of form;\n",
    "- keep linguistic information in the output.\n",
    "\n",
    "We'll need to define some functions again, and even redefine core functions of Collatex.\n",
    "\n"
   ]
  },
  {
   "cell_type": "code",
   "execution_count": null,
   "metadata": {},
   "outputs": [],
   "source": [
    "def XMLtoJson(id,xmlInput):\n",
    "    '''converts an XML tokenised and annotated input to JSON for collation.\n",
    "    Uses lemma as t instead of token (lemma will be the base of collation) \n",
    "    :param id: sigla of the witness\n",
    "    :param xmlInput: xml content to parse\n",
    "    :return: json output for collation\n",
    "    '''\n",
    "    witness = {}\n",
    "    witness['id'] = id\n",
    "    monXSL = etree.XML('''\n",
    "<xsl:stylesheet xmlns:xsl=\"http://www.w3.org/1999/XSL/Transform\"\n",
    "    xmlns:xs=\"http://www.w3.org/2001/XMLSchema\"\n",
    "    xmlns:tei=\"http://www.tei-c.org/ns/1.0\"\n",
    "    exclude-result-prefixes=\"xs\"\n",
    "    version=\"1.0\">\n",
    "\n",
    "    <xsl:output method=\"text\"/>\n",
    "\n",
    "    <xsl:template match=\"/\">\n",
    "        <xsl:apply-templates\n",
    "            select=\"descendant::tei:w\"/>\n",
    "    </xsl:template>\n",
    "\n",
    "    <xsl:template match=\"tei:w\">\n",
    "        <xsl:text>{\"form\": \"</xsl:text>\n",
    "        <xsl:apply-templates/>\n",
    "        <xsl:text>\", \"xml:id\": \"</xsl:text>\n",
    "        <xsl:value-of select=\"@xml:id\"/>\n",
    "        <xsl:text>\", \"t\": \"</xsl:text>\n",
    "        <xsl:value-of select=\"@lemma\"/>\n",
    "        <xsl:text>\", \"POS\": \"</xsl:text>\n",
    "        <xsl:value-of select=\"substring-before(@type, '|')\"/>\n",
    "        <xsl:text>\", \"morph\": \"</xsl:text>\n",
    "        <xsl:value-of select=\"substring-after(@type, '|')\"/>\n",
    "        <xsl:text>\"}</xsl:text>\n",
    "        <xsl:if test=\"following::tei:w\">\n",
    "            <xsl:text>, </xsl:text>\n",
    "        </xsl:if>\n",
    "    </xsl:template>\n",
    "</xsl:stylesheet>\n",
    "    ''')\n",
    "    monXSL = etree.XSLT(monXSL)\n",
    "    witness['tokens'] = json.loads( '[' +str(monXSL(xmlInput)) +']')\n",
    "    return witness\n",
    "\n",
    "## And now we need to redefine a collatex function to allow for various attributes\n",
    "def table_to_xml(table):\n",
    "    \"\"\"\"Converts a Collatex collation table to xml, while keeping attributes lemma, POS, morph and ID,\n",
    "     as well as the form.)\n",
    "    \"\"\"\n",
    "    readings = []\n",
    "    for column in table.columns:\n",
    "        app = etree.Element('app')\n",
    "        for key, value in sorted(column.tokens_per_witness.items()):\n",
    "            child = etree.Element('rdg')\n",
    "            child.attrib['wit'] = \"#\" + key\n",
    "            child.text = \"\".join(str(item.token_data[\"form\"]) for item in value)\n",
    "            #TODO: redéfinir pour accepter un nombre arbitraire d'éléments et faire ça proprement\n",
    "            #TODO: apparemment, aussi, il ne veut pas d'xml:id\n",
    "            child.attrib['id'] = \"\".join(str(item.token_data[\"xml:id\"]) for item in value)\n",
    "            child.attrib['lemma'] = \"\".join(str(item.token_data[\"t\"]) for item in value)\n",
    "            child.attrib['POS'] = \"\".join(str(item.token_data[\"POS\"]) for item in value)\n",
    "            child.attrib['morph'] = \"\".join(str(item.token_data[\"morph\"]) for item in value)\n",
    "            app.append(child)\n",
    "        # Without the encoding specification, outputs bytes instead of a string\n",
    "        result = etree.tostring(app, encoding=\"unicode\")\n",
    "        readings.append(result)\n",
    "    return \"<root>\" + \"\".join(readings) + \"</root>\""
   ]
  },
  {
   "cell_type": "markdown",
   "metadata": {},
   "source": [
    ""
   ]
  },
  {
   "cell_type": "code",
   "execution_count": null,
   "metadata": {},
   "outputs": [],
   "source": [
    "#Création des témoins\n",
    "#import A F G H M P R S V\n",
    "A = open('data/xml/A.xml').read()\n",
    "A = etree.XML(A)\n",
    "F = open('data/xml/F.xml').read()\n",
    "F = etree.XML(F)\n",
    "G = open('data/xml/G.xml').read()\n",
    "G = etree.XML(G)\n",
    "H = open('data/xml/H.xml').read()\n",
    "H = etree.XML(H)\n",
    "M = open('data/xml/M.xml').read()\n",
    "M = etree.XML(M)\n",
    "P = open('data/xml/P.xml').read()\n",
    "P = etree.XML(P)\n",
    "R = open('data/xml/R.xml').read()\n",
    "R = etree.XML(R)\n",
    "S = open('data/xml/S.xml').read()\n",
    "S = etree.XML(S)\n",
    "V = open('data/xml/V.xml').read()\n",
    "V = etree.XML(V)\n",
    "\n",
    "\n",
    "#Add A F G H M P R S V to input\n",
    "json_input = {}\n",
    "json_input['witnesses'] = []\n",
    "json_input['witnesses'].append(XMLtoJson('A',A))\n",
    "json_input['witnesses'].append(XMLtoJson('F',F))\n",
    "json_input['witnesses'].append(XMLtoJson('G',G))\n",
    "json_input['witnesses'].append(XMLtoJson('H',H))\n",
    "json_input['witnesses'].append(XMLtoJson('M',M))\n",
    "json_input['witnesses'].append(XMLtoJson('P',P))\n",
    "json_input['witnesses'].append(XMLtoJson('R',R))\n",
    "json_input['witnesses'].append(XMLtoJson('S',S))\n",
    "json_input['witnesses'].append(XMLtoJson('V',V))\n",
    "\n",
    "#collate(json_input, output=\"table\", layout=\"horizontal\", segmentation=True, near_match=False, astar=False,\n",
    "#            detect_transpositions=False, debug_scores=False, properties_filter=None, svg_output=True, indent=False)\n",
    "\n",
    "#layout=\"horizontal\"\n",
    "#scheduler=collatex.near_matching.Scheduler()\n",
    "\n",
    "result = collatex.collate(json_input, output=\"table\", layout=\"vertical\", segmentation=False,near_match=True)#,svg_output=True)\n",
    "\n",
    "print(result)"
   ]
  },
  {
   "cell_type": "markdown",
   "metadata": {},
   "source": [
    "But we would like an output conserving the additional informations we inputed, in order to be able to use them to categorise variants."
   ]
  },
  {
   "cell_type": "code",
   "execution_count": null,
   "metadata": {},
   "outputs": [],
   "source": [
    "xml_output = table_to_xml(result)\n",
    "print(xml_output)\n",
    "\n",
    "#f = open('results.xml', 'w')\n",
    "#print(xml_output, file=f)\n",
    "#f.close()"
   ]
  }
 ],
 "metadata": {
  "kernelspec": {
   "display_name": "Python 2",
   "language": "python",
   "name": "python2"
  },
  "language_info": {
   "codemirror_mode": {
    "name": "ipython",
    "version": 2.0
   },
   "file_extension": ".py",
   "mimetype": "text/x-python",
   "name": "python",
   "nbconvert_exporter": "python",
   "pygments_lexer": "ipython2",
   "version": "2.7.6"
  }
 },
 "nbformat": 4,
 "nbformat_minor": 0
}