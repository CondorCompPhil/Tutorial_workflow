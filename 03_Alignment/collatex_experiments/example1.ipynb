{
 "cells": [
  {
   "cell_type": "markdown",
   "metadata": {},
   "source": [
    "# Example 0. Basic collation and near match"
   ]
  },
  {
   "cell_type": "markdown",
   "metadata": {},
   "source": [
    "## Basic collation"
   ]
  },
  {
   "cell_type": "code",
   "execution_count": null,
   "metadata": {
    "collapsed": true,
    "scrolled": false
   },
   "outputs": [],
   "source": [
    "from collatex import *\n",
    "collation = Collation()\n",
    "A = open( \"data/txt/A.txt\", encoding='utf-8' ).read()\n",
    "F = open( \"data/example1/F.txt\", encoding='utf-8' ).read()\n",
    "G = open( \"data/example1/G.txt\", encoding='utf-8' ).read()\n",
    "H = open( \"data/example1/H.txt\", encoding='utf-8' ).read()\n",
    "M = open( \"data/example1/M.txt\", encoding='utf-8' ).read()\n",
    "P = open( \"data/example1/P.txt\", encoding='utf-8' ).read()\n",
    "R = open( \"data/example1/R.txt\", encoding='utf-8' ).read()\n",
    "S = open( \"data/example1/S.txt\", encoding='utf-8' ).read()\n",
    "V = open( \"data/example1/V.txt\", encoding='utf-8' ).read()\n",
    "collation.add_plain_witness( \"A\", A )\n",
    "collation.add_plain_witness( \"F\", F )\n",
    "collation.add_plain_witness( \"G\", G )\n",
    "collation.add_plain_witness( \"H\", H )\n",
    "collation.add_plain_witness( \"M\", F )\n",
    "collation.add_plain_witness( \"P\", G )\n",
    "collation.add_plain_witness( \"R\", H )\n",
    "collation.add_plain_witness( \"S\", F )\n",
    "collation.add_plain_witness( \"V\", G )\n",
    "table = collate(collation, output='html2', segmentation=False)\n",
    "print(table)"
   ]
  },
  {
   "cell_type": "markdown",
   "metadata": {},
   "source": [
    "\n",
    "## Near match collation"
   ]
  },
  {
   "cell_type": "markdown",
   "metadata": {},
   "source": [
    "In this method, the parameter 'near_match' of the function 'collate' is switched on, for allowing fuzzy matches in the alignment (it actually happens in a second round of alignment, which refines the first)."
   ]
  },
  {
   "cell_type": "code",
   "execution_count": null,
   "metadata": {
    "collapsed": true
   },
   "outputs": [],
   "source": [
    "from collatex import *\n",
    "collation = Collation()\n",
    "A = open( \"data/example1/A.txt\", encoding='utf-8' ).read()\n",
    "F = open( \"data/example1/F.txt\", encoding='utf-8' ).read()\n",
    "G = open( \"data/example1/G.txt\", encoding='utf-8' ).read()\n",
    "H = open( \"data/example1/H.txt\", encoding='utf-8' ).read()\n",
    "M = open( \"data/example1/M.txt\", encoding='utf-8' ).read()\n",
    "P = open( \"data/example1/P.txt\", encoding='utf-8' ).read()\n",
    "R = open( \"data/example1/R.txt\", encoding='utf-8' ).read()\n",
    "S = open( \"data/example1/S.txt\", encoding='utf-8' ).read()\n",
    "V = open( \"data/example1/V.txt\", encoding='utf-8' ).read()\n",
    "collation.add_plain_witness( \"A\", A )\n",
    "collation.add_plain_witness( \"F\", F )\n",
    "collation.add_plain_witness( \"G\", G )\n",
    "collation.add_plain_witness( \"H\", H )\n",
    "collation.add_plain_witness( \"M\", F )\n",
    "collation.add_plain_witness( \"P\", G )\n",
    "collation.add_plain_witness( \"R\", H )\n",
    "collation.add_plain_witness( \"S\", F )\n",
    "collation.add_plain_witness( \"V\", G )\n",
    "table = collate(collation, output='html2', near_match=True, segmentation=False)\n",
    "print(table)"
   ]
  },
  {
   "cell_type": "code",
   "execution_count": null,
   "metadata": {
    "collapsed": true
   },
   "outputs": [],
   "source": []
  }
 ],
 "metadata": {
  "kernelspec": {
   "display_name": "Python 3",
   "language": "python",
   "name": "python3"
  },
  "language_info": {
   "codemirror_mode": {
    "name": "ipython",
    "version": 3
   },
   "file_extension": ".py",
   "mimetype": "text/x-python",
   "name": "python",
   "nbconvert_exporter": "python",
   "pygments_lexer": "ipython3",
   "version": "3.6.3"
  }
 },
 "nbformat": 4,
 "nbformat_minor": 1
}
